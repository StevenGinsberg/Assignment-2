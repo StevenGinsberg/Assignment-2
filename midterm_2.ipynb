{
  "nbformat": 4,
  "nbformat_minor": 0,
  "metadata": {
    "colab": {
      "name": "midterm#2",
      "version": "0.3.2",
      "provenance": [],
      "collapsed_sections": [],
      "include_colab_link": true
    },
    "kernelspec": {
      "name": "python3",
      "display_name": "Python 3"
    }
  },
  "cells": [
    {
      "cell_type": "markdown",
      "metadata": {
        "id": "view-in-github",
        "colab_type": "text"
      },
      "source": [
        "<a href=\"https://colab.research.google.com/github/StevenGinsberg/Assignment-2/blob/master/midterm_2.ipynb\" target=\"_parent\"><img src=\"https://colab.research.google.com/assets/colab-badge.svg\" alt=\"Open In Colab\"/></a>"
      ]
    },
    {
      "cell_type": "code",
      "metadata": {
        "id": "Psv6TAkUMOnH",
        "colab_type": "code",
        "colab": {}
      },
      "source": [
        " "
      ],
      "execution_count": 0,
      "outputs": []
    },
    {
      "cell_type": "markdown",
      "metadata": {
        "id": "l5PXJtQ9MQCE",
        "colab_type": "text"
      },
      "source": [
        "###***Steven Ginsberg\n",
        "This program retrieves stock data from the yahho finance page and returns the current \n",
        "price the opening price and previuos closing price.The program then searches through the DOM tree\n",
        "and retrieves the  tr and td tags for the first list of data and stores it in a list.The program then repeats this with the second list of data and stoes it in a second list.Finally the program creates a stock ticker\n",
        "for a  group of selected stocks.###"
      ]
    },
    {
      "cell_type": "code",
      "metadata": {
        "id": "fCN8bN2BO7TC",
        "colab_type": "code",
        "colab": {}
      },
      "source": [
        "import urllib\n",
        "from urllib.request import urlopen as uReq\n",
        "import bs4 as bs\n",
        "import pandas as pd\n"
      ],
      "execution_count": 0,
      "outputs": []
    },
    {
      "cell_type": "markdown",
      "metadata": {
        "id": "7oJ4b49zRoic",
        "colab_type": "text"
      },
      "source": [
        "###**Using BeautifulSoup the program parses the  web page and returns the div called \"quote summary \".The program then creates a ticker  for selected stocks\n"
      ]
    },
    {
      "cell_type": "code",
      "metadata": {
        "id": "hraRMWgZSWjR",
        "colab_type": "code",
        "colab": {
          "base_uri": "https://localhost:8080/",
          "height": 105
        },
        "outputId": "acc779a3-0fe1-4919-ea07-459eb16b301a"
      },
      "source": [
        "labels=[]\n",
        "data =[]   ker\n",
        "       uClient=uReq(myurl)\n",
        "       page_html=uClient.read()\n",
        "       soup = bs.BeautifulSoup(page_html,'lxml')\n",
        "       table=soup.find('div',id ='quote-summary')\n",
        "       print (table.text)\n"
      ],
      "execution_count": 10,
      "outputs": [
        {
          "output_type": "stream",
          "text": [
            "Previous Close269.45Open260.00Bid259.05 x 800Ask259.13 x 900Day's Range258.17 - 262.6552 Week Range171.89 - 283.33Volume2,903,650Avg. Volume3,489,274Market Cap263.507BBeta (3Y Monthly)0.88PE Ratio (TTM)40.07EPS (TTM)6.48Earnings DateOct 28, 2019 - Nov 1, 2019Forward Dividend & Yield1.32 (0.48%)Ex-Dividend Date2019-07-081y Target Est307.63Trade prices are not sourced from all markets\n",
            "Previous Close17.13YTD Return14.30%Expense Ratio (net)1.58%CategoryForeign Small/Mid GrowthLast Cap Gain0.00Morningstar Rating★★★★★Morningstar Risk RatingBelow AverageSustainability RatingN/ANet Assets1.46BBeta (3Y Monthly)0.80Yield0.37%5y Average ReturnN/AHoldings Turnover21.00%Last Dividend0.06Average for CategoryN/AInception DateSep 5, 2012\n",
            "Previous Close34.17Open33.70Bid33.61 x 3200Ask33.62 x 2200Day's Range33.52 - 33.9352 Week Range26.80 - 34.64Volume13,997,287Avg. Volume28,471,663Market Cap245.009BBeta (3Y Monthly)0.82PE Ratio (TTM)14.16EPS (TTM)2.37Earnings DateOct 23, 2019Forward Dividend & Yield2.04 (5.98%)Ex-Dividend Date2019-07-091y Target Est34.46Trade prices are not sourced from all markets\n",
            "Previous Close6.76Open6.52Bid6.66 x 36200Ask6.67 x 900Day's Range6.52 - 6.6852 Week Range5.44 - 8.06Volume10,622,048Avg. Volume27,409,844Market Cap28.863BBeta (3Y Monthly)0.02PE Ratio (TTM)N/AEPS (TTM)-0.55Earnings DateOct 29, 2019 - Nov 4, 2019Forward Dividend & YieldN/A (N/A)Ex-Dividend Date2007-12-051y Target Est6.96Trade prices are not sourced from all markets\n"
          ],
          "name": "stdout"
        }
      ]
    },
    {
      "cell_type": "markdown",
      "metadata": {
        "id": "TFP9QN9oSovd",
        "colab_type": "text"
      },
      "source": [
        "###**The program then moves through the DOM tree and retreives the tr and td elements and stores the values in two separate lists one called data and the other called labels."
      ]
    },
    {
      "cell_type": "code",
      "metadata": {
        "id": "4bFaa-VrTYkY",
        "colab_type": "code",
        "colab": {}
      },
      "source": [
        "rows=table.find_all('tr')\n",
        "for row in rows:\n",
        "  labels.append(str(row.find_all('td')[0].text))\n",
        "  data.append(str(row.find_all('td')[1].text))"
      ],
      "execution_count": 0,
      "outputs": []
    },
    {
      "cell_type": "markdown",
      "metadata": {
        "id": "aGaK-SZ2UuMM",
        "colab_type": "text"
      },
      "source": [
        "###**A  data frame is created in which values called \"Fields\" and \"Data\" are  passed in and used by panda to create the data frame.The dataframe is then prints the data frame."
      ]
    },
    {
      "cell_type": "code",
      "metadata": {
        "id": "yUl5mmqGV5nc",
        "colab_type": "code",
        "colab": {
          "base_uri": "https://localhost:8080/",
          "height": 119
        },
        "outputId": "2db47b17-0b87-45a8-a22d-8c3e49dc697a"
      },
      "source": [
        "cols ={'field':labels,'Data':data}\n",
        "df=pd.DataFrame(cols)\n",
        "print (df.head())"
      ],
      "execution_count": 5,
      "outputs": [
        {
          "output_type": "stream",
          "text": [
            "            field          Data\n",
            "0  Previous Close          6.76\n",
            "1            Open          6.52\n",
            "2             Bid  6.64 x 21500\n",
            "3             Ask   6.65 x 3200\n",
            "4     Day's Range   6.52 - 6.66\n"
          ],
          "name": "stdout"
        }
      ]
    }
  ]
}